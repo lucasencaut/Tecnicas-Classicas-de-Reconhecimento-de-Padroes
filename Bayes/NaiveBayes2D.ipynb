{
  "nbformat": 4,
  "nbformat_minor": 0,
  "metadata": {
    "colab": {
      "provenance": []
    },
    "kernelspec": {
      "name": "python3",
      "display_name": "Python 3"
    },
    "language_info": {
      "name": "python"
    }
  },
  "cells": [
    {
      "cell_type": "code",
      "source": [
        "import numpy as np\n",
        "import matplotlib.pyplot as plt\n",
        "from sklearn.datasets import load_breast_cancer\n",
        "from sklearn.preprocessing import StandardScaler, MinMaxScaler\n",
        "from sklearn.model_selection import train_test_split\n",
        "from sklearn.metrics import accuracy_score\n",
        "\n",
        "# 1. Carregar dados\n",
        "data = load_breast_cancer()\n",
        "X = data.data\n",
        "y = data.target\n",
        "\n",
        "# 2. Padronizar\n",
        "scaler = StandardScaler()\n",
        "X = scaler.fit_transform(X)"
      ],
      "metadata": {
        "id": "J_y_k1uDdz58"
      },
      "execution_count": 7,
      "outputs": []
    },
    {
      "cell_type": "code",
      "source": [
        "def naive_gaussian_pdf(x, mean, var, epsilon=1e-9):\n",
        "    coef = 1.0 / np.sqrt(2 * np.pi * (var + epsilon))\n",
        "    exponent = -0.5 * ((x - mean) ** 2) / (var + epsilon)\n",
        "    return np.maximum(coef * np.exp(exponent), epsilon)"
      ],
      "metadata": {
        "id": "IodBPrTDd2Sn"
      },
      "execution_count": 8,
      "outputs": []
    },
    {
      "cell_type": "code",
      "source": [
        "# 4. Dividir treino/teste\n",
        "X_train, X_test, y_train, y_test = train_test_split(X, y, test_size=0.25, random_state=42)\n",
        "\n",
        "# 5. Separar por classe\n",
        "X0 = X_train[y_train == 0]\n",
        "X1 = X_train[y_train == 1]\n",
        "\n",
        "# 6. Calcular médias e variâncias (por atributo, para Naive Bayes)\n",
        "mean0 = X0.mean(axis=0)\n",
        "mean1 = X1.mean(axis=0)\n",
        "var0 = X0.var(axis=0)\n",
        "var1 = X1.var(axis=0)"
      ],
      "metadata": {
        "id": "d_BPj6wWd43P"
      },
      "execution_count": 9,
      "outputs": []
    },
    {
      "cell_type": "code",
      "source": [
        "# 7. Classificação com Naive Bayes\n",
        "y_pred = []\n",
        "for x in X_test:\n",
        "    # produto das Gaussianas univariadas (log para estabilidade numérica)\n",
        "    log_p0 = np.sum(np.log(naive_gaussian_pdf(x, mean0, var0)))\n",
        "    log_p1 = np.sum(np.log(naive_gaussian_pdf(x, mean1, var1)))\n",
        "    y_pred.append(0 if log_p0 > log_p1 else 1)\n",
        "\n",
        "# 8. Avaliação\n",
        "acc = accuracy_score(y_test, y_pred)\n",
        "print(\"Acurácia (Naive Bayes Gaussiano):\", acc)"
      ],
      "metadata": {
        "id": "EveUu_Cdd-S0"
      },
      "execution_count": null,
      "outputs": []
    },
    {
      "cell_type": "code",
      "execution_count": null,
      "metadata": {
        "id": "P4H_Znm0dUYU"
      },
      "outputs": [],
      "source": [
        "# 9. Espaço das verossimilhanças - Naive Bayes (sem log)\n",
        "p0_list = []\n",
        "p1_list = []\n",
        "\n",
        "for x in X:\n",
        "    p0 = np.prod(naive_gaussian_pdf(x, mean0, var0))\n",
        "    p1 = np.prod(naive_gaussian_pdf(x, mean1, var1))\n",
        "    p0_list.append(p0)\n",
        "    p1_list.append(p1)\n",
        "\n",
        "p0_list = np.array(p0_list)\n",
        "p1_list = np.array(p1_list)\n",
        "\n",
        "scaler_lik = MinMaxScaler()\n",
        "lik_scaled = scaler_lik.fit_transform(np.vstack([p0_list, p1_list]).T)\n",
        "p0_scaled = lik_scaled[:, 0]\n",
        "p1_scaled = lik_scaled[:, 1]\n",
        "\n",
        "plt.figure(figsize=(8, 6))\n",
        "for i in range(len(p0_scaled)):\n",
        "    color = 'red' if y[i] == 0 else 'blue'\n",
        "    plt.scatter(p0_scaled[i], p1_scaled[i], color=color, alpha=0.6)\n",
        "\n",
        "min_val = min(p0_scaled.min(), p1_scaled.min())\n",
        "max_val = max(p0_scaled.max(), p1_scaled.max())\n",
        "plt.plot([min_val, max_val], [min_val, max_val], 'k--', label='Fronteira de decisão')\n",
        "plt.xlabel(\"$Q_2(x|C_0)$\")\n",
        "plt.ylabel(\"$Q_1(x|C_1)$\")\n",
        "plt.title(\"Espaço das verossimilhanças - Naive Bayes\")\n",
        "plt.grid(True)\n",
        "plt.axis('equal')\n",
        "plt.legend()\n",
        "plt.show()"
      ]
    },
    {
      "cell_type": "code",
      "source": [
        "# 10. Fronteira de decisão no espaço x1 × x2\n",
        "X_vis = X[:, :2]\n",
        "mean0_vis = mean0[:2]\n",
        "mean1_vis = mean1[:2]\n",
        "var0_vis = var0[:2]\n",
        "var1_vis = var1[:2]\n",
        "\n",
        "x_min, x_max = X_vis[:, 0].min() - 1, X_vis[:, 0].max() + 1\n",
        "y_min, y_max = X_vis[:, 1].min() - 1, X_vis[:, 1].max() + 1\n",
        "xx, yy = np.meshgrid(np.arange(x_min, x_max, 0.05),\n",
        "                     np.arange(y_min, y_max, 0.05))\n",
        "grid_points = np.c_[xx.ravel(), yy.ravel()]\n",
        "\n",
        "zz = []\n",
        "for point in grid_points:\n",
        "    log_p0 = np.sum(np.log(naive_gaussian_pdf(point, mean0_vis, var0_vis)))\n",
        "    log_p1 = np.sum(np.log(naive_gaussian_pdf(point, mean1_vis, var1_vis)))\n",
        "    zz.append(0 if log_p0 > log_p1 else 1)\n",
        "\n",
        "zz = np.array(zz).reshape(xx.shape)\n",
        "\n",
        "plt.figure(figsize=(8, 6))\n",
        "plt.contourf(xx, yy, zz, alpha=0.3, cmap=plt.cm.coolwarm)\n",
        "for label, color in zip([0, 1], ['blue', 'red']):\n",
        "    plt.scatter(X_vis[y == label, 0], X_vis[y == label, 1], color=color, label=f'Classe {label}', edgecolor='k')\n",
        "plt.xlabel(\"x1\")\n",
        "plt.ylabel(\"x2\")\n",
        "plt.title(\"Classificação Naive Bayes no espaço $x1 \\\\times x2$\")\n",
        "plt.legend()\n",
        "plt.grid(True)\n",
        "plt.show()"
      ],
      "metadata": {
        "id": "e4tzLdemeHWI"
      },
      "execution_count": null,
      "outputs": []
    }
  ]
}