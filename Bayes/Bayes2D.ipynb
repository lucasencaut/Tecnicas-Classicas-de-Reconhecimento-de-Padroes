{
  "nbformat": 4,
  "nbformat_minor": 0,
  "metadata": {
    "colab": {
      "provenance": []
    },
    "kernelspec": {
      "name": "python3",
      "display_name": "Python 3"
    },
    "language_info": {
      "name": "python"
    }
  },
  "cells": [
    {
      "cell_type": "code",
      "execution_count": 32,
      "metadata": {
        "id": "tJQDTrCpV3Ck"
      },
      "outputs": [],
      "source": [
        "import numpy as np\n",
        "import matplotlib.pyplot as plt\n",
        "from sklearn.datasets import load_breast_cancer\n",
        "from sklearn.preprocessing import StandardScaler\n",
        "from sklearn.model_selection import train_test_split\n",
        "from sklearn.metrics import accuracy_score\n",
        "from sklearn.preprocessing import MinMaxScaler\n",
        "\n",
        "# 1. Carregar dados\n",
        "data = load_breast_cancer()\n",
        "X = data.data\n",
        "y = data.target\n",
        "\n",
        "# 2. Padronizar (importantíssimo para Gaussianas)\n",
        "scaler = StandardScaler()\n",
        "X = scaler.fit_transform(X)"
      ]
    },
    {
      "cell_type": "code",
      "source": [
        "# 3. Função da Gaussiana multivariada\n",
        "def gaussian_pdf(x, mean, sigma):\n",
        "    k = len(mean)\n",
        "    diff = np.reshape(x - mean, (-1, 1))  # coluna\n",
        "    exponent = -0.5 * (diff.T @ np.linalg.inv(sigma) @ diff).item()\n",
        "    denom = np.sqrt((2 * np.pi) ** k * np.linalg.det(sigma))\n",
        "    return float(np.exp(exponent) / denom)"
      ],
      "metadata": {
        "id": "4wk3MDnsWLwr"
      },
      "execution_count": 33,
      "outputs": []
    },
    {
      "cell_type": "code",
      "source": [
        "# 4. Dividir em treino/teste\n",
        "X_train, X_test, y_train, y_test = train_test_split(X, y, test_size=0.25, random_state=42)\n",
        "\n",
        "# 5. Separar os dados por classe\n",
        "X0 = X_train[y_train == 0]\n",
        "X1 = X_train[y_train == 1]\n",
        "\n",
        "# 6. Calcular médias e covariâncias - espalhamento moderado\n",
        "mean0 = X[y == 0].mean(axis=0)\n",
        "mean1 = X[y == 1].mean(axis=0)\n",
        "\n",
        "cov0 = np.eye(X.shape[1]) * 2.0\n",
        "cov1 = np.eye(X.shape[1]) * 2.0\n",
        "\n",
        "# print(\"Média da classe 0:\", mean0)\n",
        "# print(\"Média da classe 1:\", mean1)\n",
        "\n",
        "# print(\"Covariância da classe 0:\\n\", cov0)\n",
        "# print(\"Covariância da classe 1:\\n\", cov1)"
      ],
      "metadata": {
        "id": "lnKGJeBZeOOw"
      },
      "execution_count": 20,
      "outputs": []
    },
    {
      "cell_type": "code",
      "source": [
        "# 4. Dividir em treino/teste\n",
        "X_train, X_test, y_train, y_test = train_test_split(X, y, test_size=0.25, random_state=42)\n",
        "\n",
        "# 5. Separar os dados por classe\n",
        "X0 = X_train[y_train == 0]\n",
        "X1 = X_train[y_train == 1]\n",
        "\n",
        "# 6. Calcular médias e covariâncias - abertura maior (mais “espalhada”)\n",
        "mean0 = X[y == 0].mean(axis=0)\n",
        "mean1 = X[y == 1].mean(axis=0)\n",
        "\n",
        "cov0 = np.eye(X.shape[1]) * 5.0\n",
        "cov1 = np.eye(X.shape[1]) * 5.0\n",
        "\n",
        "# print(\"Média da classe 0:\", mean0)\n",
        "# print(\"Média da classe 1:\", mean1)\n",
        "\n",
        "# print(\"Covariância da classe 0:\\n\", cov0)\n",
        "# print(\"Covariância da classe 1:\\n\", cov1)"
      ],
      "metadata": {
        "id": "X4o6IKWXeRGw"
      },
      "execution_count": 23,
      "outputs": []
    },
    {
      "cell_type": "code",
      "source": [
        "# 4. Dividir em treino/teste\n",
        "X_train, X_test, y_train, y_test = train_test_split(X, y, test_size=0.25, random_state=42)\n",
        "\n",
        "# 5. Separar os dados por classe\n",
        "X0 = X_train[y_train == 0]\n",
        "X1 = X_train[y_train == 1]\n",
        "\n",
        "# 6. Calcular médias e covariâncias - espalhamento assimétrico (classe 0 bem dispersa e classe 1 mais concentrada)\n",
        "mean0 = X[y == 0].mean(axis=0)\n",
        "mean1 = X[y == 1].mean(axis=0)\n",
        "\n",
        "cov0 = np.eye(X.shape[1]) * 5.0\n",
        "cov1 = np.eye(X.shape[1]) * 0.5\n",
        "\n",
        "# print(\"Média da classe 0:\", mean0)\n",
        "# print(\"Média da classe 1:\", mean1)\n",
        "\n",
        "# print(\"Covariância da classe 0:\\n\", cov0)\n",
        "# print(\"Covariância da classe 1:\\n\", cov1)"
      ],
      "metadata": {
        "id": "ukVq1uYX-q6w"
      },
      "execution_count": 26,
      "outputs": []
    },
    {
      "cell_type": "code",
      "source": [
        "# 4. Dividir em treino/teste\n",
        "X_train, X_test, y_train, y_test = train_test_split(X, y, test_size=0.25, random_state=42)\n",
        "\n",
        "# 5. Separar os dados por classe\n",
        "X0 = X_train[y_train == 0]\n",
        "X1 = X_train[y_train == 1]\n",
        "\n",
        "# 6. Calcular médias e covariâncias - espalhamento assimétrico (classe 0 mais concentrada e classe 1 bem dispersa)\n",
        "mean0 = X[y == 0].mean(axis=0)\n",
        "mean1 = X[y == 1].mean(axis=0)\n",
        "\n",
        "cov0 = np.eye(X.shape[1]) * 0.5\n",
        "cov1 = np.eye(X.shape[1]) * 5.0\n",
        "\n",
        "# print(\"Média da classe 0:\", mean0)\n",
        "# print(\"Média da classe 1:\", mean1)\n",
        "\n",
        "# print(\"Covariância da classe 0:\\n\", cov0)\n",
        "# print(\"Covariância da classe 1:\\n\", cov1)"
      ],
      "metadata": {
        "id": "9orLMGMx-8zR"
      },
      "execution_count": 29,
      "outputs": []
    },
    {
      "cell_type": "code",
      "source": [
        "# 4. Dividir em treino/teste\n",
        "X_train, X_test, y_train, y_test = train_test_split(X, y, test_size=0.25, random_state=42)\n",
        "\n",
        "# 5. Separar os dados por classe\n",
        "X0 = X_train[y_train == 0]\n",
        "X1 = X_train[y_train == 1]\n",
        "\n",
        "# 6. Calcular médias e covariâncias - considerar correlação entre atributos\n",
        "mean0 = X0.mean(axis=0)\n",
        "mean1 = X1.mean(axis=0)\n",
        "cov0 = np.cov(X0.T)\n",
        "cov1 = np.cov(X1.T)\n",
        "\n",
        "# print(\"Média da classe 0:\", mean0)\n",
        "# print(\"Média da classe 1:\", mean1)\n",
        "\n",
        "# print(\"Covariância da classe 0:\\n\", cov0)\n",
        "# print(\"Covariância da classe 1:\\n\", cov1)"
      ],
      "metadata": {
        "id": "Bzo5De_HWYEc"
      },
      "execution_count": 34,
      "outputs": []
    },
    {
      "cell_type": "code",
      "source": [
        "# 7. Classificação dos dados de teste\n",
        "y_pred = []\n",
        "\n",
        "for x in X_test:\n",
        "    p0 = gaussian_pdf(x, mean0, cov0)\n",
        "    p1 = gaussian_pdf(x, mean1, cov1)\n",
        "    y_pred.append(0 if p0 > p1 else 1)\n",
        "\n",
        "\n",
        "# 8. Avaliação\n",
        "acc = accuracy_score(y_test, y_pred)\n",
        "print(\"Acurácia:\", acc)"
      ],
      "metadata": {
        "id": "M4PmwKTOWfko"
      },
      "execution_count": null,
      "outputs": []
    },
    {
      "cell_type": "code",
      "source": [
        "# 9. Espaço das log-verossimilhanças (opcional)\n",
        "p0_list = []\n",
        "p1_list = []\n",
        "for x in X:\n",
        "    p0 = gaussian_pdf(x, mean0, cov0)\n",
        "    p1 = gaussian_pdf(x, mean1, cov1)\n",
        "    p0_list.append(p0)\n",
        "    p1_list.append(p1)\n",
        "p0_list = np.array(p0_list)\n",
        "p1_list = np.array(p1_list)\n",
        "\n",
        "scaler_lik = MinMaxScaler()\n",
        "lik_scaled = scaler_lik.fit_transform(np.vstack([p0_list, p1_list]).T)\n",
        "p0_scaled = lik_scaled[:, 0]\n",
        "p1_scaled = lik_scaled[:, 1]\n",
        "\n",
        "plt.figure(figsize=(8, 6))\n",
        "for i in range(len(p0_scaled)):\n",
        "    color = 'red' if y[i] == 0 else 'blue'\n",
        "    plt.scatter(p0_scaled[i], p1_scaled[i], color=color, alpha=0.6)\n",
        "\n",
        "min_val = min(p0_scaled.min(), p1_scaled.min())\n",
        "max_val = max(p0_scaled.max(), p1_scaled.max())\n",
        "plt.plot([min_val, max_val], [min_val, max_val], 'k--', label='Fronteira de decisão')\n",
        "plt.xlabel(\"$Q_2(x|C_0)$\")\n",
        "plt.ylabel(\"$Q_1(x|C_1)$\")\n",
        "plt.title(\"Espaço das verossimilhanças\")\n",
        "plt.grid(True)\n",
        "plt.axis('equal')\n",
        "plt.legend()\n",
        "plt.show()"
      ],
      "metadata": {
        "id": "lR5AL0gmWPxV"
      },
      "execution_count": null,
      "outputs": []
    },
    {
      "cell_type": "code",
      "source": [
        "# 10. Fronteira de decisão no espaço x1 x x2\n",
        "X_vis = X[:, :2]\n",
        "mean0_vis = mean0[:2]\n",
        "mean1_vis = mean1[:2]\n",
        "cov0_vis = cov0[:2, :2]\n",
        "cov1_vis = cov1[:2, :2]\n",
        "\n",
        "x_min, x_max = X_vis[:, 0].min() - 1, X_vis[:, 0].max() + 1\n",
        "y_min, y_max = X_vis[:, 1].min() - 1, X_vis[:, 1].max() + 1\n",
        "xx, yy = np.meshgrid(np.arange(x_min, x_max, 0.05),\n",
        "                     np.arange(y_min, y_max, 0.05))\n",
        "grid_points = np.c_[xx.ravel(), yy.ravel()]\n",
        "\n",
        "zz = []\n",
        "for point in grid_points:\n",
        "    p0 = gaussian_pdf(point, mean0_vis, cov0_vis)\n",
        "    p1 = gaussian_pdf(point, mean1_vis, cov1_vis)\n",
        "    zz.append(0 if p0 > p1 else 1)\n",
        "\n",
        "zz = np.array(zz).reshape(xx.shape)\n",
        "\n",
        "plt.figure(figsize=(8, 6))\n",
        "plt.contourf(xx, yy, zz, alpha=0.3, cmap=plt.cm.coolwarm)\n",
        "for label, color in zip([0, 1], ['blue', 'red']):\n",
        "    plt.scatter(X_vis[y == label, 0], X_vis[y == label, 1], color=color, label=f'Classe {label}', edgecolor='k')\n",
        "plt.xlabel(\"x1\")\n",
        "plt.ylabel(\"x2\")\n",
        "plt.title(\"Classificação bayesiana no espaço $x1 \\\\times x2$\")\n",
        "plt.legend()\n",
        "plt.grid(True)\n",
        "plt.show()"
      ],
      "metadata": {
        "id": "kq6NcNt-ZIVl"
      },
      "execution_count": null,
      "outputs": []
    }
  ]
}