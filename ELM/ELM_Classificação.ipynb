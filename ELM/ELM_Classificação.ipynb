{
  "nbformat": 4,
  "nbformat_minor": 0,
  "metadata": {
    "colab": {
      "provenance": []
    },
    "kernelspec": {
      "name": "python3",
      "display_name": "Python 3"
    },
    "language_info": {
      "name": "python"
    }
  },
  "cells": [
    {
      "cell_type": "code",
      "execution_count": 2,
      "metadata": {
        "id": "VU5t_hDScIhJ"
      },
      "outputs": [],
      "source": [
        "import numpy as np\n",
        "import matplotlib.pyplot as plt\n",
        "import matplotlib.patches as mpatches\n",
        "from sklearn.datasets import load_breast_cancer\n",
        "from sklearn.preprocessing import StandardScaler\n",
        "from sklearn.decomposition import PCA\n",
        "from sklearn.model_selection import train_test_split\n",
        "from sklearn.metrics import accuracy_score"
      ]
    },
    {
      "cell_type": "code",
      "source": [
        "# Carregar os dados\n",
        "data = load_breast_cancer()\n",
        "X, y = data.data, data.target\n",
        "\n",
        "# Normalizar os dados\n",
        "scaler = StandardScaler()\n",
        "X_std = scaler.fit_transform(X)\n",
        "\n",
        "# Reduzir dimensionalidade para visualização (PCA)\n",
        "pca = PCA(n_components=2)\n",
        "X_pca = pca.fit_transform(X_std)\n",
        "\n",
        "# Separar treino e teste\n",
        "X_train, X_test, y_train, y_test = train_test_split(X_pca, y, test_size=0.25, random_state=42)"
      ],
      "metadata": {
        "id": "hf6HVyl_cX7e"
      },
      "execution_count": 3,
      "outputs": []
    },
    {
      "cell_type": "code",
      "source": [
        "# Função de ativação sigmoide (usada para gerar H — Eq. 2)\n",
        "def sigmoid(x):\n",
        "    return 1 / (1 + np.exp(-x))"
      ],
      "metadata": {
        "id": "b0m61pDfcyXR"
      },
      "execution_count": 4,
      "outputs": []
    },
    {
      "cell_type": "code",
      "source": [
        "# Treinamento da ELM (Eq. 9)\n",
        "def train_elm(X, y, n_hidden=30, lambd=0.1):\n",
        "    np.random.seed(0)\n",
        "    n_features = X.shape[1]\n",
        "    W = np.random.randn(n_features, n_hidden)      # pesos aleatórios\n",
        "    b = np.random.randn(n_hidden)                  # bias aleatório\n",
        "    H = sigmoid(X @ W + b)                         # matriz H (Eq. 2})\n",
        "    A = lambd * np.eye(n_hidden)                   # matriz de regularização (Eq. 5)\n",
        "    w = np.linalg.inv(H.T @ H + A) @ H.T @ y        # solução analítica (Eq. 9)\n",
        "    return W, b, w"
      ],
      "metadata": {
        "id": "XnJ3fk5Wc3lo"
      },
      "execution_count": 5,
      "outputs": []
    },
    {
      "cell_type": "code",
      "source": [
        "# Predição da ELM\n",
        "def predict_elm(X, W, b, w):\n",
        "    H = sigmoid(X @ W + b)\n",
        "    y_pred = H @ w\n",
        "    return (y_pred > 0.5).astype(int)"
      ],
      "metadata": {
        "id": "Xy12fAkCc6fY"
      },
      "execution_count": 6,
      "outputs": []
    },
    {
      "cell_type": "code",
      "source": [
        "lambdas = np.arange(0, 1, 0.01)  # de 0 até 1 com passo 0.05\n",
        "accuracies = []\n",
        "\n",
        "for lambd in lambdas:\n",
        "    W, b, w = train_elm(X_train, y_train, n_hidden=30, lambd=lambd)\n",
        "    y_pred = predict_elm(X_test, W, b, w)\n",
        "    acc = accuracy_score(y_test, y_pred)\n",
        "    accuracies.append(acc)\n",
        "    print(f\"λ = {lambd:.3f} → Acurácia = {acc:.4f}\")\n",
        "\n",
        "best_index = np.argmax(accuracies)\n",
        "best_lambda = lambdas[best_index]\n",
        "best_accuracy = accuracies[best_index]\n",
        "\n",
        "print(f\"\\nMelhor λ = {best_lambda:.3f} com acurácia = {best_accuracy:.4f}\")\n",
        "\n",
        "lambd = best_lambda"
      ],
      "metadata": {
        "id": "NhAcVwskc8tW"
      },
      "execution_count": null,
      "outputs": []
    },
    {
      "cell_type": "code",
      "source": [
        "# Treinar e testar\n",
        "lambd = 1\n",
        "W, b, w = train_elm(X_train, y_train, n_hidden=30, lambd=lambd)\n",
        "y_pred = predict_elm(X_test, W, b, w)\n",
        "acc = accuracy_score(y_test, y_pred)\n",
        "print(f\"Acurácia na base de teste: {acc:.4f}\")"
      ],
      "metadata": {
        "id": "METm8uYAeWOE"
      },
      "execution_count": null,
      "outputs": []
    },
    {
      "cell_type": "code",
      "source": [
        "# Plotar a fronteira de decisão com malha menos densa\n",
        "h = 0.1  # espaçamento maior para evitar MemoryError\n",
        "x_min, x_max = X_pca[:, 0].min() - 1, X_pca[:, 0].max() + 1\n",
        "y_min, y_max = X_pca[:, 1].min() - 1, X_pca[:, 1].max() + 1\n",
        "xx, yy = np.meshgrid(np.arange(x_min, x_max, h),\n",
        "                     np.arange(y_min, y_max, h))\n",
        "grid_points = np.c_[xx.ravel(), yy.ravel()]\n",
        "Z = predict_elm(grid_points, W, b, w).reshape(xx.shape)\n",
        "\n",
        "# Fronteira de decisão - ELM com regularização\n",
        "plt.figure(figsize=(12, 6))\n",
        "plt.contourf(xx, yy, Z, cmap=plt.cm.coolwarm, alpha=0.3)\n",
        "\n",
        "# Pontos de treino\n",
        "plt.scatter(X_train[:, 0], X_train[:, 1], c=y_train, cmap='coolwarm', edgecolor='k', s=40, label='Treino', marker='o')\n",
        "\n",
        "# Pontos de teste\n",
        "plt.scatter(X_test[:, 0], X_test[:, 1], c=y_test, cmap='coolwarm', s=40, label='Teste', marker='x')\n",
        "\n",
        "# Adiciona rótulos personalizados na legenda para as classes 0 e 1\n",
        "red_patch = mpatches.Patch(color='red', label='Classe 0')\n",
        "blue_patch = mpatches.Patch(color='blue', label='Classe 1')\n",
        "\n",
        "# Ajuste final\n",
        "plt.title(f'Fronteira de Decisão - ELM com Regularização (λ = {lambd})')\n",
        "plt.xlabel('PCA 1')\n",
        "plt.ylabel('PCA 2')\n",
        "plt.legend(handles=[red_patch, blue_patch], loc='upper right')\n",
        "plt.grid(True)\n",
        "plt.show()"
      ],
      "metadata": {
        "id": "HaMiN-mxdDnG"
      },
      "execution_count": null,
      "outputs": []
    },
    {
      "cell_type": "code",
      "source": [
        "# Plotar a Acurácia em Função de λ\n",
        "plt.figure(figsize=(8, 5))\n",
        "plt.plot(lambdas, accuracies, marker='o')\n",
        "plt.xlabel('λ (Regularização)')\n",
        "plt.ylabel('Acurácia na base de teste')\n",
        "plt.title('Acurácia vs λ na ELM')\n",
        "plt.grid(True)\n",
        "plt.tight_layout()\n",
        "plt.show()"
      ],
      "metadata": {
        "id": "glFTApf8SHXR"
      },
      "execution_count": null,
      "outputs": []
    }
  ]
}