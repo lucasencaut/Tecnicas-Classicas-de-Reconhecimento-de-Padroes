{
  "nbformat": 4,
  "nbformat_minor": 0,
  "metadata": {
    "colab": {
      "provenance": []
    },
    "kernelspec": {
      "name": "python3",
      "display_name": "Python 3"
    },
    "language_info": {
      "name": "python"
    }
  },
  "cells": [
    {
      "cell_type": "code",
      "source": [
        "import numpy as np\n",
        "import matplotlib.pyplot as plt\n",
        "from sklearn.preprocessing import StandardScaler"
      ],
      "metadata": {
        "id": "9xa0gF6qaxyl"
      },
      "execution_count": 21,
      "outputs": []
    },
    {
      "cell_type": "code",
      "source": [
        "# Função de ativação (Eq. semelhante à que gera H em Eq. \\eqref{eq:elm-mat})\n",
        "def activation(x, func='tanh'):\n",
        "    if func == 'sigmoid':\n",
        "        return 1 / (1 + np.exp(-x))\n",
        "    elif func == 'tanh':\n",
        "        return np.tanh(x)\n",
        "    else:\n",
        "        raise ValueError(\"Escolha 'tanh' ou 'sigmoid'.\")"
      ],
      "metadata": {
        "id": "bD-B6BQsazVB"
      },
      "execution_count": 22,
      "outputs": []
    },
    {
      "cell_type": "code",
      "source": [
        "# Geração de dados: y = sin(x) + ruído\n",
        "np.random.seed(42)\n",
        "N = 100\n",
        "x = np.linspace(-10, 10, N).reshape(-1, 1)\n",
        "y_true = np.sin(x)\n",
        "y = y_true + 0.1 * np.random.randn(*x.shape)\n",
        "\n",
        "# Padronização das entradas (melhora a estabilidade numérica)\n",
        "scaler = StandardScaler()\n",
        "x_scaled = scaler.fit_transform(x)"
      ],
      "metadata": {
        "id": "d4L5yTgfa5kE"
      },
      "execution_count": 23,
      "outputs": []
    },
    {
      "cell_type": "code",
      "source": [
        "# Parâmetros da ELM\n",
        "n_hidden = 20\n",
        "lambda_reg = 0.01  # λ da Eq. 5 e 9\n",
        "\n",
        "# Pesos aleatórios da camada oculta (não treinados)\n",
        "W = np.random.randn(x.shape[1], n_hidden)\n",
        "b = np.random.randn(n_hidden)\n",
        "\n",
        "# Matriz de ativações da camada oculta H (Eq. 2})\n",
        "H = activation(x_scaled @ W + b)"
      ],
      "metadata": {
        "id": "sbyKXjzQbqX_"
      },
      "execution_count": 24,
      "outputs": []
    },
    {
      "cell_type": "code",
      "source": [
        "# Solução sem regularização: w = (HᵗH)^(-1) Hᵗy (caso λ = 0)\n",
        "w_no_reg = np.linalg.pinv(H) @ y\n",
        "\n",
        "# Solução com regularização (Eq. 9):\n",
        "# w = (HᵗH + λI)^(-1) Hᵗy\n",
        "I = np.identity(n_hidden)  # Matriz identidade = forma simplificada de A\n",
        "w_reg = np.linalg.inv(H.T @ H + lambda_reg * I) @ H.T @ y"
      ],
      "metadata": {
        "id": "jgW7x5-LbuHS"
      },
      "execution_count": 25,
      "outputs": []
    },
    {
      "cell_type": "code",
      "source": [
        "# Geração de pontos para curva de predição\n",
        "x_test = np.linspace(-10, 10, 300).reshape(-1, 1)\n",
        "x_test_scaled = scaler.transform(x_test)\n",
        "H_test = activation(x_test_scaled @ W + b)\n",
        "\n",
        "# Saídas preditas\n",
        "y_pred_no_reg = H_test @ w_no_reg\n",
        "y_pred_reg = H_test @ w_reg\n",
        "y_test_true = np.sin(x_test)"
      ],
      "metadata": {
        "id": "t7X1FyYZbwXw"
      },
      "execution_count": 26,
      "outputs": []
    },
    {
      "cell_type": "code",
      "execution_count": null,
      "metadata": {
        "id": "1CdvHh3IfD6e"
      },
      "outputs": [],
      "source": [
        "# Plot das curvas\n",
        "plt.figure(figsize=(10, 5))\n",
        "plt.plot(x_test, y_test_true, label='Função alvo (sen)', linestyle='dashed')\n",
        "plt.scatter(x, y, label='Dados com ruído', s=20, alpha=0.6)\n",
        "plt.plot(x_test, y_pred_no_reg, label='ELM sem regularização', color='red')\n",
        "plt.plot(x_test, y_pred_reg, label=f'ELM com regularização ($\\\\lambda$ = {lambda_reg})', color='green')\n",
        "plt.legend()\n",
        "plt.title('Regressão com ELM - Efeito da Regularização')\n",
        "plt.xlabel('x')\n",
        "plt.ylabel('y')\n",
        "plt.grid(True)\n",
        "plt.tight_layout()\n",
        "plt.show()"
      ]
    }
  ]
}