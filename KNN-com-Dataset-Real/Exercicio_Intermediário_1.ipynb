{
  "nbformat": 4,
  "nbformat_minor": 0,
  "metadata": {
    "colab": {
      "provenance": []
    },
    "kernelspec": {
      "name": "python3",
      "display_name": "Python 3"
    },
    "language_info": {
      "name": "python"
    }
  },
  "cells": [
    {
      "cell_type": "code",
      "source": [
        "import numpy as np\n",
        "import matplotlib.pyplot as plt\n",
        "from sklearn.model_selection import train_test_split\n",
        "from sklearn.datasets import load_iris\n",
        "from sklearn.preprocessing import StandardScaler"
      ],
      "metadata": {
        "id": "vnQyQCbQYrOx"
      },
      "execution_count": 5,
      "outputs": []
    },
    {
      "cell_type": "code",
      "source": [
        "def myknn(xt, xall, yall, k):\n",
        "    dall = np.sum((xall - xt) ** 2, axis=1)\n",
        "    orddall = np.argsort(dall)\n",
        "    yhat = np.sign(np.sum(yall[orddall[:k]]))\n",
        "    return yhat"
      ],
      "metadata": {
        "id": "oRJFlpdQYvBQ"
      },
      "execution_count": 6,
      "outputs": []
    },
    {
      "cell_type": "code",
      "source": [
        "# Carregar o conjunto de dados real (Iris Dataset)\n",
        "iris = load_iris()\n",
        "X = iris.data[:, :2]  # Usando apenas duas features para visualização\n",
        "y = iris.target\n",
        "\n",
        "# Convertendo para problema binário (-1 e 1)\n",
        "y = np.where(y == 2, 1, -1)\n",
        "\n",
        "# Normalizar os dados para melhor performance\n",
        "scaler = StandardScaler()\n",
        "X = scaler.fit_transform(X)\n",
        "\n",
        "# Parâmetros\n",
        "k_values = range(1, 71)  # Variação de k\n",
        "num_trials = 10  # Número de repetições para cálculo do desvio padrão (ajustado para testes rápidos)\n",
        "np.random.seed(42)\n",
        "\n",
        "# Listas para armazenar médias e desvios padrão de cada k\n",
        "accuracies_mean = []\n",
        "accuracies_std = []"
      ],
      "metadata": {
        "id": "m6YbbEsbZCxX"
      },
      "execution_count": 7,
      "outputs": []
    },
    {
      "cell_type": "code",
      "execution_count": null,
      "metadata": {
        "id": "weBD5kghuUkO"
      },
      "outputs": [],
      "source": [
        "for trial in range(num_trials):\n",
        "    accuracies_per_trial = []\n",
        "    print(f\"\\nResultados do Experimento {trial+1}:\")\n",
        "\n",
        "    # Divisão entre treino e validação\n",
        "    X_train, X_val, y_train, y_val = train_test_split(X, y, test_size=0.25, random_state=None)\n",
        "\n",
        "    # Avaliação da acurácia para cada k\n",
        "    for k in k_values:\n",
        "        correct_predictions = 0\n",
        "        for i in range(len(X_val)):\n",
        "            prediction = myknn(X_val[i], X_train, y_train, k)\n",
        "            if prediction == y_val[i]:\n",
        "                correct_predictions += 1\n",
        "        accuracy = correct_predictions / len(y_val)\n",
        "        accuracies_per_trial.append(accuracy)\n",
        "\n",
        "        # Gerando Fronteira de Decisão para cada k\n",
        "        x_min, x_max = X[:, 0].min() - 1, X[:, 0].max() + 1\n",
        "        y_min, y_max = X[:, 1].min() - 1, X[:, 1].max() + 1\n",
        "        x_values = np.linspace(x_min, x_max, 100)\n",
        "        y_values = np.linspace(y_min, y_max, 100)\n",
        "        X_grid, Y_grid = np.meshgrid(x_values, y_values)\n",
        "\n",
        "        # Classificando cada ponto da grade com k atual\n",
        "        M = np.array([myknn(np.array([x, y]), X_train, y_train, k) for x, y in zip(X_grid.ravel(), Y_grid.ravel())])\n",
        "        M = M.reshape(X_grid.shape)\n",
        "\n",
        "        # Plotar a Fronteira de Decisão\n",
        "        plt.figure(figsize=(8, 6))\n",
        "        plt.contourf(X_grid, Y_grid, M, cmap='coolwarm', alpha=0.7)\n",
        "        plt.scatter(X_train[:, 0], X_train[:, 1], c=y_train, cmap='coolwarm', edgecolors='black')\n",
        "        plt.xlabel('Feature 1')\n",
        "        plt.ylabel('Feature 2')\n",
        "        plt.title(f'Fronteira de Decisão - Experimento {trial+1}, k={k}')\n",
        "        plt.show()\n",
        "\n",
        "    # Gráfico de Acurácia por Experimento\n",
        "    plt.figure(figsize=(8, 6))\n",
        "    plt.plot(k_values, accuracies_per_trial, 'o-', label=f'Experimento {trial+1}')\n",
        "    plt.xlabel('Número de Vizinhos (k)')\n",
        "    plt.ylabel('Acurácia')\n",
        "    plt.grid()\n",
        "    plt.legend()\n",
        "    plt.show()"
      ]
    },
    {
      "cell_type": "code",
      "source": [
        "# Cálculo da Média e Desvio Padrão\n",
        "print(\"\\nResultados Finais:\")\n",
        "for k in k_values:\n",
        "    trial_accuracies = []\n",
        "    for _ in range(num_trials):\n",
        "        X_train, X_val, y_train, y_val = train_test_split(X, y, test_size=0.25, random_state=None)\n",
        "        correct_predictions = 0\n",
        "        for i in range(len(X_val)):\n",
        "            prediction = myknn(X_val[i], X_train, y_train, k)\n",
        "            if prediction == y_val[i]:\n",
        "                correct_predictions += 1\n",
        "        accuracy = correct_predictions / len(y_val)\n",
        "        trial_accuracies.append(accuracy)\n",
        "\n",
        "    mean_accuracy = np.mean(trial_accuracies)\n",
        "    std_dev_accuracy = np.std(trial_accuracies)\n",
        "    accuracies_mean.append(mean_accuracy)\n",
        "    accuracies_std.append(std_dev_accuracy)\n",
        "    print(f\"k={k}: Média = {mean_accuracy:.4f}, Desvio Padrão = {std_dev_accuracy:.4f}\")\n",
        "\n",
        "# **Gráfico Final: Acurácia Média e Desvio Padrão**\n",
        "plt.figure(figsize=(12, 6))\n",
        "plt.errorbar(k_values, accuracies_mean, yerr=accuracies_std, fmt='o-', label='Acurácia Média', capsize=5)\n",
        "plt.xlabel('Número de Vizinhos (k)')\n",
        "plt.ylabel('Acurácia Média')\n",
        "plt.grid()\n",
        "plt.legend()\n",
        "plt.show()"
      ],
      "metadata": {
        "id": "t4auvDVpY-9S"
      },
      "execution_count": null,
      "outputs": []
    }
  ]
}